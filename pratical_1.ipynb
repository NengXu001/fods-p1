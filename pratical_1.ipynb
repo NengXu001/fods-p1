{
  "nbformat": 4,
  "nbformat_minor": 0,
  "metadata": {
    "colab": {
      "name": "pratical_1.ipynb",
      "provenance": [],
      "collapsed_sections": [],
      "authorship_tag": "ABX9TyOPJMvQT4wZb/hhTtj9diSX",
      "include_colab_link": true
    },
    "kernelspec": {
      "name": "python3",
      "display_name": "Python 3"
    },
    "language_info": {
      "name": "python"
    }
  },
  "cells": [
    {
      "cell_type": "markdown",
      "metadata": {
        "id": "view-in-github",
        "colab_type": "text"
      },
      "source": [
        "<a href=\"https://colab.research.google.com/github/NengXu001/fods-p1/blob/main/pratical_1.ipynb\" target=\"_parent\"><img src=\"https://colab.research.google.com/assets/colab-badge.svg\" alt=\"Open In Colab\"/></a>"
      ]
    },
    {
      "cell_type": "code",
      "metadata": {
        "id": "nbIUDeZz2czm"
      },
      "source": [
        "import numpy as np\n",
        "import matplotlib.pyplot as plt\n",
        "import _pickle as cp\n"
      ],
      "execution_count": 2,
      "outputs": []
    },
    {
      "cell_type": "code",
      "metadata": {
        "colab": {
          "base_uri": "https://localhost:8080/"
        },
        "id": "mqjipfos3L80",
        "outputId": "11f30598-4a3a-47ed-bb9f-e845246250e8"
      },
      "source": [
        "# load the white wine dataset\n",
        "# X is the feature matrix that stores the feature values of the data records\n",
        "# y is the label vector that stores the labels of the data records\n",
        "X, y = cp.load(open('winequality-white.pickle', 'rb'))\n",
        "\n",
        "# check the size of the data\n",
        "print(\"X is a {} matrix, which contains {} data records and {} features.\".format(X.shape, X.shape[0], X.shape[1]))\n",
        "print(\"y is a {}-dimentional vector, which stores the corresponding labels of the data records in X\".format(y.shape[0]))"
      ],
      "execution_count": 3,
      "outputs": [
        {
          "output_type": "stream",
          "name": "stdout",
          "text": [
            "X is a (4898, 11) matrix, which contains 4898 data records and 11 features.\n",
            "y is a 4898-dimentional vector, which stores the corresponding labels of the data records in X\n"
          ]
        }
      ]
    },
    {
      "cell_type": "code",
      "metadata": {
        "colab": {
          "base_uri": "https://localhost:8080/"
        },
        "id": "XGPqNk39493c",
        "outputId": "cd9d094c-9868-4503-a689-16fbf446fdd5"
      },
      "source": [
        "# The function splits the dataset into training data and testing data.\n",
        "# The parameter split_coeff is a percentage value such that\n",
        "# the first split_coeff of the dataset goes to the training dataset \n",
        "# and the remaining data goes to the test dataset.\n",
        "def split_data(X, y, split_coeff):\n",
        "    N, _ = X.shape # get the number of records (rows)\n",
        "    train_size = int(split_coeff * N) # use the first split_coeff of the data as the training data\n",
        "    X_train = X[:train_size] # the first training_size records\n",
        "    y_train = y[:train_size]\n",
        "    X_test = X[train_size:] # the last test_size records\n",
        "    y_test = y[train_size:]\n",
        "    return X_train, y_train, X_test, y_test\n",
        "\n",
        "X_train, y_train, X_test, y_test = split_data(X, y, 0.8) # split the data with split_coeff=0.8\n",
        "\n",
        "# check the size of the splitted dataset\n",
        "print(\"Shape of X_train:\", X_train.shape)\n",
        "print(\"Shape of y_train:\", y_train.shape)\n",
        "print(\"Shape of X_test:\", X_test.shape)\n",
        "print(\"Shape of y_test:\", y_test.shape)"
      ],
      "execution_count": 4,
      "outputs": [
        {
          "output_type": "stream",
          "name": "stdout",
          "text": [
            "Shape of X_train: (3918, 11)\n",
            "Shape of y_train: (3918,)\n",
            "Shape of X_test: (980, 11)\n",
            "Shape of y_test: (980,)\n"
          ]
        }
      ]
    },
    {
      "cell_type": "markdown",
      "metadata": {
        "id": "dmdRkeQzSQsq"
      },
      "source": [
        "Task 1"
      ]
    },
    {
      "cell_type": "code",
      "metadata": {
        "colab": {
          "base_uri": "https://localhost:8080/",
          "height": 295
        },
        "id": "QhiuDvUtTdc0",
        "outputId": "83ff4e3b-3d16-4bb1-e955-33982dd6d363"
      },
      "source": [
        "#@title\n",
        "# Task 1: \n",
        "# the function takes the y-values in the training data as the input and makes the bar chart. \n",
        "# Hint: Your function should make a bar chart looks like the bar chart below.\n",
        "def plot_bar_chart_score(y_train):\n",
        "\n",
        "  plt.xlabel('Score')\n",
        "  plt.ylabel('Number of wines')\n",
        "  plt.title(\"Distribution of scores of wines\")\n",
        "  plt.hist( y_train, bins = np.arange(3,11), align= 'left',rwidth = 0.7)\n",
        "  plt.show()\n",
        "  \n",
        "plot_bar_chart_score(y_train)"
      ],
      "execution_count": 5,
      "outputs": [
        {
          "output_type": "display_data",
          "data": {
            "image/png": "[encoded data removed]",
            "text/plain": [
              "<Figure size 432x288 with 1 Axes>"
            ]
          },
          "metadata": {
            "needs_background": "light"
          }
        }
      ]
    },
    {
      "cell_type": "markdown",
      "metadata": {
        "id": "EIGya1GcSS1R"
      },
      "source": [
        "Task 2"
      ]
    },
    {
      "cell_type": "code",
      "metadata": {
        "colab": {
          "base_uri": "https://localhost:8080/"
        },
        "id": "e8ijaz3qSVHH",
        "outputId": "7c512741-a285-47e1-b72a-cf0e2e29f15f"
      },
      "source": [
        "#@title\n",
        "# Task 2: implement the trivial predictor\n",
        "# The function computes the average value of y on the training label values\n",
        "def compute_average(y_train):\n",
        "\n",
        "  ave_train_y = sum(y_train)/y_train.shape[0]\n",
        "  return ave_train_y\n",
        "\n",
        "y_train_avg = compute_average(y_train)\n",
        "print(\"Average of y on the training label values is {}\".format(y_train_avg))\n",
        "\n",
        "# The trivial predictor returns the average value.\n",
        "def trivial_predictor(X_test, y_train_avg):\n",
        "  return y_train_avg"
      ],
      "execution_count": 6,
      "outputs": [
        {
          "output_type": "stream",
          "name": "stdout",
          "text": [
            "Average of y on the training label values is 5.878764675855028\n"
          ]
        }
      ]
    },
    {
      "cell_type": "markdown",
      "metadata": {
        "id": "iT8VKxKpTrSR"
      },
      "source": [
        "Task 3"
      ]
    },
    {
      "cell_type": "code",
      "metadata": {
        "id": "COkV9oC6TGOj",
        "colab": {
          "base_uri": "https://localhost:8080/"
        },
        "outputId": "00c0b27a-05c6-4179-dc95-f8e1597a4191"
      },
      "source": [
        "# We next test our trivial predictor on the training data and test data. \n",
        "# Implement a function that can report the mean squared error \n",
        "# of a predictor on the given data\n",
        "# Input: data and predictor\n",
        "# Output: mean squared error of the predictor on the given data\n",
        "def test_predictor(X, y, predictor: callable=None):\n",
        "    # Apply the predictor to each row of the matrix X to get the predictions\n",
        "    y_predicted = np.apply_along_axis(predictor, 1, X)\n",
        "\n",
        "    # TODO: compute the mean squared error of y\n",
        "    # The code below is just for compilation. \n",
        "    # You need to delete it and write your own code.\n",
        "    summ = 0\n",
        "    for i in range(len(y)):\n",
        "      summ += (y[i] - y_predicted[i])**2\n",
        "    mse = summ / len(y)\n",
        "    \n",
        "    return mse\n",
        "\n",
        "# use the function test_predictor to test the trivial predictor\n",
        "# we use the lambda function here to pass the function trivial predictor to the function test_predictor.\n",
        "mse_trivial_predictor_train = test_predictor(X_train, y_train, lambda x: trivial_predictor(x, y_train_avg))\n",
        "mse_trivial_predictor_test = test_predictor(X_test, y_test, lambda x: trivial_predictor(x, y_train_avg))\n",
        "\n",
        "# Report the result\n",
        "print('Trivial Predictor')\n",
        "print('--------------------------------------------------------------------------------\\n')\n",
        "print('MSE (Training) = %.4f' % mse_trivial_predictor_train)\n",
        "print('MSE (Testing)  = %.4f' % mse_trivial_predictor_test)"
      ],
      "execution_count": 7,
      "outputs": [
        {
          "output_type": "stream",
          "name": "stdout",
          "text": [
            "Trivial Predictor\n",
            "--------------------------------------------------------------------------------\n",
            "\n",
            "MSE (Training) = 0.7768\n",
            "MSE (Testing)  = 0.8139\n"
          ]
        }
      ]
    },
    {
      "cell_type": "markdown",
      "metadata": {
        "id": "-3FzyxvwXaUD"
      },
      "source": [
        "Task 4"
      ]
    },
    {
      "cell_type": "code",
      "metadata": {
        "id": "RiNKCRK9XdlR",
        "colab": {
          "base_uri": "https://localhost:8080/"
        },
        "outputId": "bf371862-b9b3-459d-9614-7ea75c20707c"
      },
      "source": [
        "# The task is to implement a function that can standardize the data and returns the mean and std of the data.\n",
        "# Input: training data\n",
        "# Output: standardize training data, standard deviations and means\n",
        "def standardize_data(X):\n",
        "    # TODO: compute the means and standard deviations of the data, and standardize the data\n",
        "    # The code below is just for compilation. \n",
        "    # You need to replace it by your own code.\n",
        "    ###################################################\n",
        "    ##### YOUR CODE STARTS HERE #######################\n",
        "    ###################################################\n",
        "    mean = np.zeros(X.shape[1])\n",
        "    std = np.zeros(X.shape[1])\n",
        "    \n",
        "    mean = np.mean(X,0)\n",
        "    std = np.std(X,0)\n",
        "\n",
        "    X_std = (X - mean)/std\n",
        "    ###################################################\n",
        "    ##### YOUR CODE ENDS HERE #########################\n",
        "    ###################################################\n",
        "    \n",
        "    return X_std, mean, std\n",
        "\n",
        "# Standardize the training data and store the means and the stds \n",
        "X_train_std, X_train_mean, X_train_std_div = standardize_data(X_train)\n",
        "print(\"X_train_std:\", X_train_std.shape)\n",
        "print(\"Mean:\", X_train_mean)\n",
        "print(\"Standard deviation:\", X_train_std_div)"
      ],
      "execution_count": 8,
      "outputs": [
        {
          "output_type": "stream",
          "name": "stdout",
          "text": [
            "X_train_std: (3918, 11)\n",
            "Mean: [6.85427514e+00 2.78390761e-01 3.34892802e-01 6.42623788e+00\n",
            " 4.58213374e-02 3.53263144e+01 1.38513272e+02 9.94040729e-01\n",
            " 3.18647524e+00 4.89055641e-01 1.05115799e+01]\n",
            "Standard deviation: [8.39100902e-01 9.95630176e-02 1.24249975e-01 5.06377532e+00\n",
            " 2.16660282e-02 1.71004677e+01 4.23956179e+01 2.97972269e-03\n",
            " 1.49949475e-01 1.12992053e-01 1.22536544e+00]\n"
          ]
        }
      ]
    },
    {
      "cell_type": "code",
      "metadata": {
        "id": "UU2PKZnrq9rg"
      },
      "source": [
        "# TODO: Standardize the test data using the means and standrad deviations of the training data\n",
        "###################################################\n",
        "##### YOUR CODE STARTS HERE #######################\n",
        "###################################################\n",
        "X_test_std = (X_test - X_train_mean)/X_train_std_div\n",
        "###################################################\n",
        "##### YOUR CODE ENDS HERE #########################\n",
        "###################################################"
      ],
      "execution_count": 9,
      "outputs": []
    },
    {
      "cell_type": "markdown",
      "metadata": {
        "id": "2To1d5CPrt-Y"
      },
      "source": [
        "Task 5"
      ]
    },
    {
      "cell_type": "markdown",
      "metadata": {
        "id": "qXK4WQ9xrymQ"
      },
      "source": [
        "We have standardized X-values. Do we need to standardize the y-values? Why?\n",
        "\n"
      ]
    },
    {
      "cell_type": "markdown",
      "metadata": {
        "id": "xbf219Q2r5UQ"
      },
      "source": [
        "We don't need to standardize the y-values, because a target variable (y) can be considered to be affected and controlled by X-values, then the dimension and magnitude of these characteristic variables will be different, so we need to standardize X_values to Prevent different features from affecting the target variable differently."
      ]
    },
    {
      "cell_type": "markdown",
      "metadata": {
        "id": "sx3ozqCet3hk"
      },
      "source": [
        "Task 6"
      ]
    },
    {
      "cell_type": "code",
      "metadata": {
        "id": "dweIW3B9t5z6",
        "colab": {
          "base_uri": "https://localhost:8080/"
        },
        "outputId": "484a6889-8451-48a9-f1ad-3f1e8f109ace"
      },
      "source": [
        "# The task is to implement the function that adds a column of ones to the front of the input matrix\n",
        "def expand_with_ones(X):\n",
        "    # TODO: add a column of ones to the front of the input matrix\n",
        "    # The code below is just for compilation. \n",
        "    # You need to replace it by your own code.\n",
        "    ###################################################\n",
        "    ##### YOUR CODE STARTS HERE #######################\n",
        "    ###################################################\n",
        "    X_out = np.c_[np.ones(X.shape[0]),X]\n",
        "    return X_out\n",
        "    ###################################################\n",
        "    ##### YOUR CODE ENDS HERE #########################\n",
        "    ###################################################\n",
        "\n",
        "# Train the linear model using the least-squares method\n",
        "# The task is to implement the function that computes the parameters\n",
        "def least_squares_compute_parameters(X_input, y):\n",
        "    # add the bias column to the data\n",
        "    X = expand_with_ones(X_input)\n",
        "\n",
        "    # TODO: compute the parameters based on the expanded X and y using the least-squares method\n",
        "    # The code below is just for compilation. \n",
        "    # You need to replace it by your own code.\n",
        "    ###################################################\n",
        "    ##### YOUR CODE STARTS HERE #######################\n",
        "    ###################################################\n",
        "    w = np.zeros(X.shape[1])\n",
        "    x_interv = np.linalg.inv(X.T.dot(X))\n",
        "    w = x_interv.dot(X.T).dot(y)\n",
        "\n",
        "    return w\n",
        "    ###################################################\n",
        "    ##### YOUR CODE ENDS HERE #########################\n",
        "    ###################################################\n",
        "\n",
        "# Apply the function to train the linear model\n",
        "w = least_squares_compute_parameters(X_train_std, y_train) \n",
        "print(\"w:\", w.shape)"
      ],
      "execution_count": 10,
      "outputs": [
        {
          "output_type": "stream",
          "name": "stdout",
          "text": [
            "w: (12,)\n"
          ]
        }
      ]
    },
    {
      "cell_type": "code",
      "metadata": {
        "id": "BhWG8MvZ-sAy"
      },
      "source": [
        "# Implement the linear model predictor\n",
        "# Input: test data and parameters\n",
        "# Output: predicted values\n",
        "def linear_model_predictor(X, w):\n",
        "    # TODO: predict the labels for the input data\n",
        "    # The code below is just for compilation. \n",
        "    # You need to replace it by your own code.\n",
        "    ###################################################\n",
        "    ##### YOUR CODE STARTS HERE #######################\n",
        "    ###################################################\n",
        "    y = X.dot(w)\n",
        "    return y\n",
        "    ###################################################\n",
        "    ##### YOUR CODE ENDS HERE #########################\n",
        "    ###################################################"
      ],
      "execution_count": 11,
      "outputs": []
    },
    {
      "cell_type": "code",
      "metadata": {
        "id": "97RSq29d-42Y",
        "colab": {
          "base_uri": "https://localhost:8080/"
        },
        "outputId": "74439936-23c0-4d43-c767-f672381a2e20"
      },
      "source": [
        "# use the function test_predictor to evaluate the linear model predictor\n",
        "mse_linear_model_predictor = test_predictor(expand_with_ones(X_test_std), y_test, lambda x: linear_model_predictor(x, w))\n",
        "print(\"Mean squared error is {}\".format(mse_linear_model_predictor))"
      ],
      "execution_count": 12,
      "outputs": [
        {
          "output_type": "stream",
          "name": "stdout",
          "text": [
            "Mean squared error is 0.5607292042283474\n"
          ]
        }
      ]
    },
    {
      "cell_type": "markdown",
      "metadata": {
        "id": "Gv-H5ZdiqjmA"
      },
      "source": [
        "Task 7"
      ]
    },
    {
      "cell_type": "code",
      "metadata": {
        "id": "AVkjWR5Rqk9L",
        "colab": {
          "base_uri": "https://localhost:8080/"
        },
        "outputId": "d9fb6690-ba6c-444f-d020-6a0af7742c92"
      },
      "source": [
        "# Input: training data and test data\n",
        "# Output: mse of the linear model predictor on both the training and test data\n",
        "def train_and_test(X_train, y_train, X_test, y_test):\n",
        "    # TODO: implement the function \n",
        "    # The code below is just for compilation. \n",
        "    # You need to replace it by your own code.\n",
        "    ###################################################\n",
        "    ##### YOUR CODE STARTS HERE #######################\n",
        "    ###################################################\n",
        "    # Hints: use the functions you have implemented\n",
        "    X_train_std = standardize_data(X_train)[0]\n",
        "    X_test_std = (X_test - X_train_mean)/X_train_std_div\n",
        "\n",
        "    w_train = least_squares_compute_parameters(X_train_std, y_train)\n",
        "\n",
        "    mse_train = test_predictor(expand_with_ones(X_train_std), y_train, lambda x: linear_model_predictor(x, w_train))\n",
        "    mse_test = test_predictor(expand_with_ones(X_test_std), y_test, lambda x: linear_model_predictor(x, w_train))\n",
        "\n",
        "    return mse_train, mse_test\n",
        "    ###################################################\n",
        "    ##### YOUR CODE ENDS HERE #########################\n",
        "    ###################################################\n",
        "\n",
        "mse_train, mse_test = train_and_test(X_train, y_train, X_test, y_test)\n",
        "print('Linear Model')\n",
        "print('-----------------------\\n')\n",
        "print('MSE (Training) = %.4f' % mse_train)\n",
        "print('MSE (Testing)  = %.4f' % mse_test)"
      ],
      "execution_count": 13,
      "outputs": [
        {
          "output_type": "stream",
          "name": "stdout",
          "text": [
            "Linear Model\n",
            "-----------------------\n",
            "\n",
            "MSE (Training) = 0.5640\n",
            "MSE (Testing)  = 0.5607\n"
          ]
        }
      ]
    },
    {
      "cell_type": "code",
      "metadata": {
        "id": "ZgGvzUVOy24X",
        "colab": {
          "base_uri": "https://localhost:8080/",
          "height": 279
        },
        "outputId": "592e84cb-c303-4c16-c30d-c0a6f894c610"
      },
      "source": [
        "mse_train_v = []\n",
        "mse_test_v = []\n",
        "\n",
        "TRAINING_SIZE_MAX = 601\n",
        "TRAINING_SIZE_MIN = 20\n",
        "\n",
        "# compute the MSE over data with sizes from TRAINING_SIZE_MIN to TRAINING_SIZE_MAX with increasing step 20\n",
        "for train_size in range(TRAINING_SIZE_MIN, TRAINING_SIZE_MAX, 20):\n",
        "    # TODO: \n",
        "    #   1. use the first train_size data records from the X_train and y_train as the training data\n",
        "    #   2. train and compute the MSE on both training and test data using the train_and_test function\n",
        "    #   3. add the computed MSE to the lists mse_train_v and mse_test_v\n",
        "    # The code below is just for compilation. \n",
        "    # You need to replace it by your own code.\n",
        "    ###################################################\n",
        "    ##### YOUR CODE STARTS HERE #######################\n",
        "    ###################################################\n",
        "    mse_train, mse_test = train_and_test(X_train[:train_size,:], y_train[:train_size,], X_test, y_test)\n",
        "    \n",
        "    mse_train_v.append(mse_train)\n",
        "    mse_test_v.append(mse_test)\n",
        "    ###################################################\n",
        "    ##### YOUR CODE ENDS HERE #########################\n",
        "    ###################################################\n",
        "    \n",
        "\n",
        "# The below code generates the learning curves plot\n",
        "plt.figure(2)\n",
        "plt.plot(np.arange(TRAINING_SIZE_MIN, TRAINING_SIZE_MAX, 20), mse_train_v, 'r--', label=\"Training Error\")\n",
        "plt.plot(np.arange(TRAINING_SIZE_MIN, TRAINING_SIZE_MAX, 20), mse_test_v, 'b-', label=\"Test Error\")\n",
        "plt.xlabel('Dataset Size')\n",
        "plt.ylabel('Mean Squared Error')\n",
        "plt.show()"
      ],
      "execution_count": 14,
      "outputs": [
        {
          "output_type": "display_data",
          "data": {
            "image/png": "[encoded data removed]",
            "text/plain": [
              "<Figure size 432x288 with 1 Axes>"
            ]
          },
          "metadata": {
            "needs_background": "light"
          }
        }
      ]
    },
    {
      "cell_type": "markdown",
      "metadata": {
        "id": "xgNv-7bv00BM"
      },
      "source": [
        "Task 8"
      ]
    },
    {
      "cell_type": "markdown",
      "metadata": {
        "id": "4_rVw5V00u0d"
      },
      "source": [
        "Explain whether you think the model is underfitting or not and how much data you need before getting the optimal test error.\n",
        "\n"
      ]
    },
    {
      "cell_type": "markdown",
      "metadata": {
        "id": "8Be91HYc01p8"
      },
      "source": [
        "The model is not underfitting. Because the error of train data and test data are both low. About 200-300 data size."
      ]
    },
    {
      "cell_type": "code",
      "metadata": {
        "id": "E8nj-IeR8SmK"
      },
      "source": [
        "# import the preprocessing libs for standarization and basis expansion\n",
        "from sklearn.preprocessing import StandardScaler, PolynomialFeatures \n",
        "\n",
        "# Ridge and Lasso linear model\n",
        "from sklearn.linear_model import Ridge, Lasso "
      ],
      "execution_count": 15,
      "outputs": []
    },
    {
      "cell_type": "markdown",
      "metadata": {
        "id": "zXqzyruG8aYq"
      },
      "source": [
        "Task 9"
      ]
    },
    {
      "cell_type": "code",
      "metadata": {
        "id": "RUK-FaJO8YHT"
      },
      "source": [
        "def expand_basis(X, degree):\n",
        "    # TODO: expand the basis of X for the input degree\n",
        "    # The code below is just for compilation. \n",
        "    # You need to replace it by your own code.\n",
        "    ###################################################\n",
        "    ##### YOUR CODE STARTS HERE #######################\n",
        "    ###################################################\n",
        "    # Hints: use the function PolynomialFeatures\n",
        "    poly = PolynomialFeatures(degree)\n",
        "    X = poly.fit_transform(X)\n",
        "    return X\n",
        "    ###################################################\n",
        "    ##### YOUR CODE ENDS HERE #########################\n",
        "    ###################################################"
      ],
      "execution_count": 16,
      "outputs": []
    },
    {
      "cell_type": "markdown",
      "metadata": {
        "id": "__CE5mdoEKls"
      },
      "source": [
        "Task 10"
      ]
    },
    {
      "cell_type": "code",
      "metadata": {
        "id": "RZmhXvaIEMB5"
      },
      "source": [
        "def prepare_data(X, y, degree):\n",
        "    # TODO: the training, test and validation data using the expanded dataset.\n",
        "    # The code below is just for compilation. \n",
        "    # You need to replace it by your own code.\n",
        "    ###################################################\n",
        "    ##### YOUR CODE STARTS HERE #######################\n",
        "    ###################################################\n",
        "    # Hints: follow the steps     \n",
        "    # 1. split the data (X, y) into training data (X_train, y_train) and test data (X_test, y_test)\n",
        "    # 2. standardize the training data and do the same transformation to the test data\n",
        "    # 3. expand the basis of the training data and test data\n",
        "    # 4. split the expanded training data into training data (X_train_n, y_train_n) and validation data (X_train_v, y_train_v)\n",
        "    # 5. standardize the training data and do the same transformation to the validation data\n",
        "    \n",
        "    \n",
        "    # training data\n",
        "    train_size = int(0.8*(X.shape[0]))\n",
        "    X_train = X[:train_size]\n",
        "    y_train = y[:train_size]\n",
        "\n",
        "    # test data\n",
        "    X_test = X[train_size:] \n",
        "    y_test = y[train_size:]\n",
        "\n",
        "    scaler1 = StandardScaler().fit(X_train)\n",
        "    X_train = scaler1.transform(X_train)\n",
        "    X_test = scaler1.transform(X_test)\n",
        "\n",
        "    X_train = expand_basis(X_train, degree)\n",
        "    X_test = expand_basis(X_test, degree)\n",
        "\n",
        "    # further split the training data to training and validation data\n",
        "    # training data\n",
        "    v_size = int(0.8*X_train.shape[0])\n",
        "    X_train_n = X_train[:v_size]\n",
        "    y_train_n = y_train[:v_size]\n",
        "\n",
        "    # validation data\n",
        "    X_train_v = X_train[v_size:]\n",
        "    y_train_v = y_train[v_size:]\n",
        "\n",
        "    scaler2 = StandardScaler().fit(X_train_n)\n",
        "    X_train_n = scaler2.transform(X_train_n)\n",
        "    X_train_v = scaler2.transform(X_train_v)\n",
        "\n",
        "    return X_train, y_train, X_train_n, y_train_n, X_train_v, y_train_v, X_test, y_test\n",
        "    ###################################################\n",
        "    ##### YOUR CODE ENDS HERE #########################\n",
        "    ###################################################\n",
        "\n",
        "X_train, y_train, X_train_n, y_train_n, X_train_v, y_train_v, X_test, y_test = prepare_data(X, y, 2) # here we expand the dataset with degree 2"
      ],
      "execution_count": 17,
      "outputs": []
    },
    {
      "cell_type": "markdown",
      "metadata": {
        "id": "kHmZe_MeOSqw"
      },
      "source": [
        "Task 11"
      ]
    },
    {
      "cell_type": "code",
      "metadata": {
        "id": "2-W2zRidOUkO",
        "colab": {
          "base_uri": "https://localhost:8080/",
          "height": 644
        },
        "outputId": "e8143375-d62d-4fdc-fde0-c53c0d956245"
      },
      "source": [
        "# The function takes the training and validation data as inputs, and \n",
        "# returns the lambda value that results the minimal mse\n",
        "# We use is_ridge to indicate which the model is considered.\n",
        "# is_ridge = True indicates Ridge while is_ridge = False indicates Lasso\n",
        "def choose_hyper_param(X_train_n, y_train_n, X_train_v, y_train_v, is_ridge: bool):\n",
        "\n",
        "    mse_arr = []\n",
        "    lam_arr = []\n",
        "    \n",
        "\n",
        "    # Try lambda values from 10^-4 to 10^2. \n",
        "    # Record the mse and the lambda values in mse_arr and lam_arr\n",
        "    # The code below is just for compilation. \n",
        "    # You need to replace it by your own code.\n",
        "    ###################################################\n",
        "    ##### YOUR CODE STARTS HERE #######################\n",
        "    ###################################################\n",
        "    for pow_lam in range(-4, 3):\n",
        "\n",
        "        lam = 10 ** pow_lam\n",
        "        mse = 0\n",
        "\n",
        "        if is_ridge == True :\n",
        "          clf = Ridge(alpha = lam)\n",
        "          clf.fit(X_train_n,y_train_n)\n",
        "          #mse = test_predictor(X_train_v, y_train_v, lambda x: clf.predict(x))\n",
        "          y_predi = clf.predict(X_train_v)\n",
        "\n",
        "          summ = 0\n",
        "          for i in range(len(y_train_v)):\n",
        "            summ += (y_train_v[i] - y_predi[i])**2\n",
        "          mse = summ / len(y_train_v)          \n",
        "\n",
        "        if is_ridge == False:\n",
        "          las = Lasso(alpha = lam)\n",
        "          las.fit(X_train_n, y_train_n)\n",
        "          y_predi = las.predict(X_train_v)\n",
        "\n",
        "          summ = 0\n",
        "          for i in range(len(y_train_v)):\n",
        "            summ += (y_train_v[i] - y_predi[i])**2\n",
        "          mse = summ / len(y_train_v)    \n",
        "        \n",
        "        mse_arr.append(mse) \n",
        "        lam_arr.append(lam)\n",
        "      \n",
        "    ###################################################\n",
        "    ##### YOUR CODE ENDS HERE #########################\n",
        "    ###################################################\n",
        "\n",
        "\n",
        "    # get the index of the lambda value that has the minimal use\n",
        "    lambda_idx_min = np.argmin(np.array(mse_arr))\n",
        "\n",
        "    # plot of the lambda values and their mse\n",
        "    plt.figure()\n",
        "    plt.semilogx(lam_arr, mse_arr)\n",
        "\n",
        "    # return the optimal lambda value\n",
        "    return lam_arr[lambda_idx_min]\n",
        "\n",
        "# call the function to choose the lambda for Ridge and Lasso\n",
        "lam_ridge = choose_hyper_param(X_train_n, y_train_n, X_train_v, y_train_v, True)\n",
        "lam_lasso = choose_hyper_param(X_train_n, y_train_n, X_train_v, y_train_v, False)\n",
        "\n",
        "print(\"Ridge lambda:\", lam_ridge)\n",
        "print(\"Lasso lambda:\", lam_lasso)"
      ],
      "execution_count": 18,
      "outputs": [
        {
          "output_type": "stream",
          "name": "stderr",
          "text": [
            "/usr/local/lib/python3.7/dist-packages/sklearn/linear_model/_coordinate_descent.py:476: ConvergenceWarning: Objective did not converge. You might want to increase the number of iterations. Duality gap: 267.9684464549539, tolerance: 0.24240462667517523\n",
            "  positive)\n",
            "/usr/local/lib/python3.7/dist-packages/sklearn/linear_model/_coordinate_descent.py:476: ConvergenceWarning: Objective did not converge. You might want to increase the number of iterations. Duality gap: 0.9041018199127393, tolerance: 0.24240462667517523\n",
            "  positive)\n"
          ]
        },
        {
          "output_type": "stream",
          "name": "stdout",
          "text": [
            "Ridge lambda: 1\n",
            "Lasso lambda: 0.001\n"
          ]
        },
        {
          "output_type": "display_data",
          "data": {
            "image/png": "[encoded data removed]",
            "text/plain": [
              "<Figure size 432x288 with 1 Axes>"
            ]
          },
          "metadata": {
            "needs_background": "light"
          }
        },
        {
          "output_type": "display_data",
          "data": {
            "image/png": "[encoded data removed]",
            "text/plain": [
              "<Figure size 432x288 with 1 Axes>"
            ]
          },
          "metadata": {
            "needs_background": "light"
          }
        }
      ]
    },
    {
      "cell_type": "markdown",
      "metadata": {
        "id": "E_NYclfisWBs"
      },
      "source": [
        "Task 12"
      ]
    },
    {
      "cell_type": "code",
      "metadata": {
        "id": "dCGOCsg7sXbu",
        "colab": {
          "base_uri": "https://localhost:8080/"
        },
        "outputId": "2e2657dc-8fde-4bcb-d77c-6e91d2407145"
      },
      "source": [
        "# TODO: train the Ridge and Lasso models using the optimal parameters, and\n",
        "#       report their MSE\n",
        "###################################################\n",
        "##### YOUR CODE STARTS HERE #######################\n",
        "###################################################\n",
        "# Hints: train these models on the full training data\n",
        "\n",
        "#ridge\n",
        "clf = Ridge(alpha = 1)\n",
        "clf.fit(X_train, y_train)\n",
        "\n",
        "#mse = test_predictor(X_train_v, y_train_v, lambda x: clf.predict(x))\n",
        "y_predi_train = clf.predict(X_train)\n",
        "summ = 0\n",
        "for i in range(len(y_train)):\n",
        "  summ += (y_train[i] - y_predi_train[i])**2\n",
        "mse_ridge_train = summ / len(y_train)\n",
        "\n",
        "y_predi_test = clf.predict(X_test)\n",
        "summ = 0\n",
        "for i in range(len(y_test)):\n",
        "  summ += (y_test[i] - y_predi_test[i])**2\n",
        "mse_ridge_test = summ / len(y_test)\n",
        "\n",
        "\n",
        "#lasso\n",
        "las = Lasso(alpha = 0.001)\n",
        "las.fit(X_train, y_train)\n",
        "\n",
        "y_predi_train = las.predict(X_train)\n",
        "summ = 0\n",
        "for i in range(len(y_train)):\n",
        "  summ += (y_train[i] - y_predi_train[i])**2\n",
        "mse_lasso_train = summ / len(y_train)\n",
        "  \n",
        "y_predi_test = las.predict(X_test)\n",
        "summ = 0\n",
        "for i in range(len(y_test)):\n",
        "  summ += (y_test[i] - y_predi_test[i])**2\n",
        "mse_lasso_test = summ / len(y_test)\n",
        "\n",
        "###################################################\n",
        "##### YOUR CODE ENDS HERE #########################\n",
        "###################################################\n",
        "\n",
        "# Report the result\n",
        "print('For Ridge Regression with using degree %d polynomial expansion and lambda = %.4f' % (lam_ridge, lam_ridge))\n",
        "print('--------------------------------------------------------------------------------\\n')\n",
        "print('MSE (Training) = %.4f' % mse_ridge_train)\n",
        "print('MSE (Testing)  = %.4f' % mse_ridge_test)\n",
        "\n",
        "print('\\n\\nFor Lasso with using degree %d polynomial expansion and lambda = %.4f' % (lam_lasso, lam_lasso))\n",
        "print('---------------------------------------------------------------------\\n')\n",
        "print('MSE (Training) = %.4f' % mse_lasso_train)\n",
        "print('MSE (Testing)  = %.4f' % mse_lasso_test)"
      ],
      "execution_count": 21,
      "outputs": [
        {
          "output_type": "stream",
          "name": "stdout",
          "text": [
            "For Ridge Regression with using degree 1 polynomial expansion and lambda = 1.0000\n",
            "--------------------------------------------------------------------------------\n",
            "\n",
            "MSE (Training) = 0.4952\n",
            "MSE (Testing)  = 0.5125\n",
            "\n",
            "\n",
            "For Lasso with using degree 0 polynomial expansion and lambda = 0.0010\n",
            "---------------------------------------------------------------------\n",
            "\n",
            "MSE (Training) = 0.4962\n",
            "MSE (Testing)  = 0.5098\n"
          ]
        },
        {
          "output_type": "stream",
          "name": "stderr",
          "text": [
            "/usr/local/lib/python3.7/dist-packages/sklearn/linear_model/_coordinate_descent.py:476: ConvergenceWarning: Objective did not converge. You might want to increase the number of iterations. Duality gap: 0.6056512715360896, tolerance: 0.3043413221031145\n",
            "  positive)\n"
          ]
        }
      ]
    },
    {
      "cell_type": "markdown",
      "metadata": {
        "id": "zy_36gQtw6tk"
      },
      "source": [
        "Task 13"
      ]
    },
    {
      "cell_type": "code",
      "metadata": {
        "id": "OqDt_OP6w8Gf"
      },
      "source": [
        "# KFold\n",
        "from sklearn.model_selection import KFold\n",
        "\n",
        "# TODO: Try using higher degree basis expansion. Find the degree that gives the minimal mse. \n",
        "###################################################\n",
        "##### YOUR CODE STARTS HERE #######################\n",
        "###################################################\n",
        "\n",
        "\n",
        "###################################################\n",
        "##### YOUR CODE ENDS HERE #########################\n",
        "###################################################"
      ],
      "execution_count": null,
      "outputs": []
    }
  ]
}